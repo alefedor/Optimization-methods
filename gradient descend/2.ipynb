{
 "cells": [
  {
   "cell_type": "code",
   "execution_count": null,
   "metadata": {},
   "outputs": [],
   "source": [
    "import numpy as np\n",
    "\n",
    "iterations_number = 100\n",
    "X0 = np.array([0.73, -0.23])\n",
    "optimal_x = np.array([-np.log(2) / 2.0, 0.0])"
   ]
  },
  {
   "cell_type": "code",
   "execution_count": null,
   "metadata": {},
   "outputs": [],
   "source": [
    "import matplotlib.pyplot as plt\n",
    "from matplotlib import rc\n",
    "plt.rcParams[\"figure.figsize\"] = [12,12]\n",
    "def fix_scaling(ax=None):\n",
    "    if not ax:\n",
    "        xlim = plt.xlim()\n",
    "        ylim = plt.ylim()\n",
    "        d1 = xlim[1] - xlim[0]\n",
    "        d2 = ylim[1] - ylim[0]\n",
    "        if d1 > d2:\n",
    "            plt.ylim((ylim[0] - (d1-d2) / 2, ylim[1] + (d1-d2) / 2))\n",
    "        else:\n",
    "            plt.xlim((xlim[0] + (d1-d2) / 2, xlim[1] - (d1-d2) / 2))\n",
    "    else:\n",
    "        xlim = ax.get_xlim()\n",
    "        ylim = ax.get_ylim()\n",
    "        d1 = xlim[1] - xlim[0]\n",
    "        d2 = ylim[1] - ylim[0]\n",
    "        if d1 > d2:\n",
    "            ax.set_ylim((ylim[0] - (d1-d2) / 2, ylim[1] + (d1-d2) / 2))\n",
    "        else:\n",
    "            ax.set_xlim((xlim[0] + (d1-d2) / 2, xlim[1] - (d1-d2) / 2))"
   ]
  },
  {
   "cell_type": "code",
   "execution_count": null,
   "metadata": {},
   "outputs": [],
   "source": [
    "from matplotlib.animation import FuncAnimation\n",
    "from IPython.display import HTML\n",
    "def animate_trajectory(traj):\n",
    "    fig, ax = plt.subplots()\n",
    "    n = len(traj)\n",
    "    def step(t):\n",
    "        ax.cla()\n",
    "        ax.plot([optimal_x[0]], [optimal_x[1]], 'o', color='green')\n",
    "        #Level contours\n",
    "        delta = 0.025\n",
    "        x = np.arange(-1.5, 1.5, delta)\n",
    "        y = np.arange(-1.5, 1.5, delta)\n",
    "        X, Y = np.meshgrid(x, y)\n",
    "        Z = np.zeros_like(X)\n",
    "        for i in range(X.shape[0]):\n",
    "            for j in range(X.shape[1]):\n",
    "                Z[i][j] = func([X[i][j], Y[i][j]])\n",
    "        CS = ax.contour(X, Y, Z, [3.0, 4.0, 5.0], colors=['blue', 'purple', 'red'])\n",
    "\n",
    "        \n",
    "        # bug fixed: t -> t + 1\n",
    "        ax.plot([u[0] for u in traj[:t + 1]], [u[1] for u in traj[:t + 1]], color='black')\n",
    "        ax.plot([u[0] for u in traj[:t + 1]], [u[1] for u in traj[:t + 1]], 'o', color='black')\n",
    "        \n",
    "        fix_scaling(ax)\n",
    "        ax.axis('off')\n",
    "    \n",
    "    plt.close() # fixed odd picture\n",
    "\n",
    "    return FuncAnimation(fig, step,\n",
    "                     frames=range(n), interval=600)"
   ]
  },
  {
   "cell_type": "code",
   "execution_count": null,
   "metadata": {},
   "outputs": [],
   "source": [
    "# Task 2A\n",
    "def func(x):\n",
    "    return np.exp(x[0] + 3 * x[1]) + np.exp(x[0] - 3 * x[1]) + np.exp(-x[0])\n",
    "def func_grad(x):\n",
    "    return np.array([np.exp(x[0] + 3 * x[1]) + np.exp(x[0] - 3 * x[1]) - np.exp(-x[0]),\n",
    "                    3 * np.exp(x[0] + 3 * x[1]) - 3 * np.exp(x[0] - 3 * x[1])])"
   ]
  },
  {
   "cell_type": "code",
   "execution_count": null,
   "metadata": {},
   "outputs": [],
   "source": [
    "# Task 2B\n",
    "def lipschitz_estimation():\n",
    "    e = np.exp(1)\n",
    "    e3 = np.exp(3)\n",
    "    em3 = np.exp(-3)\n",
    "    return np.sqrt((3 * (e * (e3 - em3) + 3 * e * (e3 + em3))) ** 2 + (3 * (e3-em3) * e + (e3 + em3) * e + e) ** 2)\n",
    "                   \n",
    "M = lipschitz_estimation()\n",
    "print(M)"
   ]
  },
  {
   "cell_type": "code",
   "execution_count": null,
   "metadata": {},
   "outputs": [],
   "source": [
    "# Task 2C\n",
    "def make_animation(build_trajectory):\n",
    "    base_animation = animate_trajectory(build_trajectory(X0))\n",
    "    return HTML(base_animation.to_html5_video())  "
   ]
  },
  {
   "cell_type": "code",
   "execution_count": null,
   "metadata": {},
   "outputs": [],
   "source": [
    "# gradient descent\n",
    "def constant_step_trajectory(x0):\n",
    "    alpha = 1 / M\n",
    "    cur_x = x0\n",
    "    trajectory = [cur_x]\n",
    "    \n",
    "    for i in range(iterations_number):\n",
    "        cur_x = cur_x - alpha * func_grad(cur_x)\n",
    "        trajectory.append(cur_x)\n",
    "        \n",
    "    return trajectory\n",
    "\n",
    "make_animation(constant_step_trajectory)"
   ]
  },
  {
   "cell_type": "code",
   "execution_count": null,
   "metadata": {},
   "outputs": [],
   "source": [
    "# Nesterov\n",
    "def nesterov_trajectory(x0):\n",
    "    phi = 1.0 / M\n",
    "    cur_alpha = 0.9\n",
    "    \n",
    "    cur_x = x0\n",
    "    cur_y = x0\n",
    "    \n",
    "    def calc_next_alpha(alpha):\n",
    "        return (-alpha ** 2 + np.sqrt(alpha ** 4 + 4 * alpha ** 2)) / 2.0\n",
    "\n",
    "    def calc_beta(cur_alpha, next_alpha):\n",
    "        return (cur_alpha * (1 - cur_alpha)) / (cur_alpha ** 2 + next_alpha)\n",
    "    \n",
    "    trajectory = [cur_x]\n",
    "    \n",
    "    for i in range(iterations_number):\n",
    "        next_x = cur_y - phi * func_grad(cur_y)\n",
    "        next_alpha = calc_next_alpha(cur_alpha)\n",
    "        beta = calc_beta(cur_alpha, next_alpha)\n",
    "        cur_y, cur_x = next_x + beta * (next_x - cur_x), next_x\n",
    "        cur_alpha = next_alpha\n",
    "        \n",
    "        trajectory.append(cur_x)\n",
    "        \n",
    "    return trajectory    \n",
    "\n",
    "make_animation(nesterov_trajectory) "
   ]
  }
 ],
 "metadata": {
  "kernelspec": {
   "display_name": "Python 3",
   "language": "python",
   "name": "python3"
  },
  "language_info": {
   "codemirror_mode": {
    "name": "ipython",
    "version": 2
   },
   "file_extension": ".py",
   "mimetype": "text/x-python",
   "name": "python",
   "nbconvert_exporter": "python",
   "pygments_lexer": "ipython2",
   "version": "2.7.12"
  }
 },
 "nbformat": 4,
 "nbformat_minor": 2
}
