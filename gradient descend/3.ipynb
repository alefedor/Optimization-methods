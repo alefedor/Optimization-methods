{
 "cells": [
  {
   "cell_type": "code",
   "execution_count": 60,
   "metadata": {},
   "outputs": [],
   "source": [
    "import numpy as np"
   ]
  },
  {
   "cell_type": "code",
   "execution_count": 61,
   "metadata": {},
   "outputs": [],
   "source": [
    "# Task 3A\n",
    "def polynomial_regression(xs, ys, n):\n",
    "    a = np.array([np.array([sum([x ** (i + j) for x in xs]) * 1.0 / len(xs) for j in range(n + 1)]) for i in range(n + 1)])\n",
    "    b = np.array([sum([x ** i * y for x, y in zip(xs, ys)]) * 1.0 / len(xs) for i in range(n + 1)])\n",
    "    return np.linalg.solve(a, b)"
   ]
  },
  {
   "cell_type": "code",
   "execution_count": 62,
   "metadata": {},
   "outputs": [],
   "source": [
    "# Test 1\n",
    "xs = [i for i in range(10)]\n",
    "ys = [3 for i in range(10)]\n",
    "n = 0\n",
    "alphas = polynomial_regression(xs, ys, n)\n",
    "assert(len(alphas) == n + 1)\n",
    "assert(sum([(sum([alpha * x ** i for i, alpha  in zip(range(n + 1), alphas)]) - y) ** 2 for x, y in zip(xs, ys)]) < 1e-5)"
   ]
  },
  {
   "cell_type": "code",
   "execution_count": 63,
   "metadata": {},
   "outputs": [],
   "source": [
    "# Test 2\n",
    "xs = [i for i in range(10)]\n",
    "ys = [np.random.randint(low = -10, high = 10) for i in range(10)]\n",
    "n = 10\n",
    "alphas = polynomial_regression(xs, ys, n)\n",
    "assert(len(alphas) == n + 1)\n",
    "assert(sum([(sum([alpha * x ** i for i, alpha  in zip(range(n + 1), alphas)]) - y) ** 2 for x, y in zip(xs, ys)]) < 1e-5)"
   ]
  },
  {
   "cell_type": "code",
   "execution_count": 64,
   "metadata": {},
   "outputs": [],
   "source": [
    "# Task 3B\n",
    "def func(ps, state):\n",
    "    return calc_func(ps, state[0], state[1], state[2]) / len(ps)\n",
    "\n",
    "def calc_func(ps, x0, y0, r):\n",
    "    p0 = np.array([x0, y0])\n",
    "    return sum([(np.linalg.norm(p - p0) - r) ** 2 for p in ps])\n",
    "\n",
    "def func_grad(ps, state):\n",
    "    return calc_func_grad(ps, state[0], state[1], state[2]) / len(ps)\n",
    "\n",
    "def calc_func_grad(ps, x0, y0, r):\n",
    "    p0 = np.array([x0, y0])\n",
    "    return np.array([\n",
    "        sum([2 * (x0 - p[0]) * (np.linalg.norm(p0 - p) - r) / np.linalg.norm(p0 - p) for p in ps]),\n",
    "        sum([2 * (y0 - p[1]) * (np.linalg.norm(p0 - p) - r) / np.linalg.norm(p0 - p) for p in ps]),\n",
    "        sum([2 * (r - np.linalg.norm(p0 - p)) for p in ps])\n",
    "    ])\n",
    "\n",
    "def round_approximation(ps, max_iterations):\n",
    "    alpha = 0.1\n",
    "    x0 = sum([p[0] for p in ps]) / len(ps)\n",
    "    y0 = sum([p[1] for p in ps]) / len(ps)\n",
    "    r = (max([p[0] for p in ps]) - min([p[0] for p in ps])) / 2.0\n",
    "    cur_state = np.array([x0, y0, r])\n",
    "    trajectory = [cur_state]\n",
    "    \n",
    "    for i in range(max_iterations):\n",
    "        cur_state = cur_state - alpha * func_grad(ps, cur_state)\n",
    "        trajectory.append(cur_state)\n",
    "    return trajectory"
   ]
  },
  {
   "cell_type": "code",
   "execution_count": 65,
   "metadata": {},
   "outputs": [],
   "source": [
    "# Test\n",
    "a = np.array([0, 0])\n",
    "b = np.array([0, 10])\n",
    "for i in range(20):\n",
    "    c = np.array([1 + np.random.randint(low = 0, high = 10), 1 + np.random.randint(low = 0, high = 10)])\n",
    "    ps = [a, b, c]\n",
    "    assert(func(ps, round_approximation(ps, 3000)[-1]) < 1e-2)"
   ]
  },
  {
   "cell_type": "code",
   "execution_count": 66,
   "metadata": {},
   "outputs": [
    {
     "data": {
      "image/png": "[encoded data removed]",
      "text/plain": [
       "<Figure size 432x288 with 1 Axes>"
      ]
     },
     "metadata": {
      "needs_background": "light"
     },
     "output_type": "display_data"
    }
   ],
   "source": [
    "import matplotlib.pyplot as plt\n",
    "\n",
    "ps = [[np.random.randint(low = 0, high = 100), np.random.randint(low = 0, high = 100)] for i in range(100)]\n",
    "trajectory = round_approximation(ps, 30)\n",
    "fig, ax = plt.subplots()\n",
    "ax.plot(range(len(trajectory)), [ func(ps, p) for p in trajectory ])\n",
    "plt.xlabel(\"iteration\")\n",
    "plt.ylabel(\"f(x, y, r)\")\n",
    "plt.show()\n",
    "plt.close()"
   ]
  }
 ],
 "metadata": {
  "kernelspec": {
   "display_name": "Python 3",
   "language": "python",
   "name": "python3"
  },
  "language_info": {
   "codemirror_mode": {
    "name": "ipython",
    "version": 2
   },
   "file_extension": ".py",
   "mimetype": "text/x-python",
   "name": "python",
   "nbconvert_exporter": "python",
   "pygments_lexer": "ipython2",
   "version": "2.7.12"
  }
 },
 "nbformat": 4,
 "nbformat_minor": 2
}
